{
 "cells": [
  {
   "cell_type": "markdown",
   "id": "774e253a-4835-4b05-9eee-8e57e89c8de8",
   "metadata": {},
   "source": [
    "Python Project"
   ]
  },
  {
   "cell_type": "markdown",
   "id": "cdaf9548-2e5b-49ba-8275-dd902fd70b89",
   "metadata": {},
   "source": [
    "Christopher Rodgers"
   ]
  },
  {
   "cell_type": "markdown",
   "id": "a04b3462-8069-48e5-b1dd-b06561db0e16",
   "metadata": {},
   "source": [
    "30 Apr 2024"
   ]
  },
  {
   "cell_type": "code",
   "execution_count": 27,
   "id": "3192ab8b-84fc-4cf9-a6e8-f53736266145",
   "metadata": {},
   "outputs": [],
   "source": [
    "import pandas as pd\n",
    "import requests\n",
    "import matplotlib.pyplot as plt"
   ]
  },
  {
   "cell_type": "code",
   "execution_count": 28,
   "id": "5851fd60-9a40-472f-959c-9129ae691af6",
   "metadata": {},
   "outputs": [],
   "source": [
    "cost_of_living = pd.read_csv('C:/Users/crodg/Documents/DSE5002/DSE5002/Week 8/Python Project/cost_of_living.csv')\n",
    "salary_data = pd.read_csv('C:/Users/crodg/Documents/DSE5002/DSE5002/Week 8/Python Project/ds_salaries.csv')"
   ]
  },
  {
   "cell_type": "code",
   "execution_count": 29,
   "id": "cc64663d-b102-4605-9105-468f09e73989",
   "metadata": {},
   "outputs": [],
   "source": [
    "def convert_currency(amount, from_currency, to_currency=\"USD\"):\n",
    "    base_url = \"https://api.exchangerate-api.com/v4/latest/\"\n",
    "    response = requests.get(base_url + from_currency)\n",
    "    data = response.json()\n",
    "    if 'rates' in data and to_currency in data['rates']:\n",
    "        conversion_rate = data['rates'][to_currency]\n",
    "        converted_amount = amount * conversion_rate\n",
    "        return converted_amount\n",
    "    else:\n",
    "        raise ValueError(\"Unable to fetch exchange rates or invalid currency codes!\")"
   ]
  },
  {
   "cell_type": "code",
   "execution_count": 30,
   "id": "65dcc917-e7f7-4f64-907d-6769a947164b",
   "metadata": {},
   "outputs": [],
   "source": [
    "cost_of_living.dropna(inplace=True)\n",
    "salary_data.dropna(subset=['salary', 'salary_in_usd'], inplace=True)"
   ]
  },
  {
   "cell_type": "code",
   "execution_count": 31,
   "id": "24c05363-70b1-4498-afe4-82be4fde4a00",
   "metadata": {},
   "outputs": [
    {
     "ename": "ValueError",
     "evalue": "Unable to fetch exchange rates or invalid currency codes!",
     "output_type": "error",
     "traceback": [
      "\u001b[1;31m---------------------------------------------------------------------------\u001b[0m",
      "\u001b[1;31mValueError\u001b[0m                                Traceback (most recent call last)",
      "Cell \u001b[1;32mIn[31], line 1\u001b[0m\n\u001b[1;32m----> 1\u001b[0m combined_data[\u001b[38;5;124m'\u001b[39m\u001b[38;5;124msalary_in_usd\u001b[39m\u001b[38;5;124m'\u001b[39m] \u001b[38;5;241m=\u001b[39m salary_data\u001b[38;5;241m.\u001b[39mapply(\u001b[38;5;28;01mlambda\u001b[39;00m x: convert_currency(x[\u001b[38;5;124m'\u001b[39m\u001b[38;5;124msalary\u001b[39m\u001b[38;5;124m'\u001b[39m], x[\u001b[38;5;124m'\u001b[39m\u001b[38;5;124msalary_currency\u001b[39m\u001b[38;5;124m'\u001b[39m]), axis\u001b[38;5;241m=\u001b[39m\u001b[38;5;241m1\u001b[39m)\n",
      "File \u001b[1;32m~\\anaconda3\\Lib\\site-packages\\pandas\\core\\frame.py:10034\u001b[0m, in \u001b[0;36mDataFrame.apply\u001b[1;34m(self, func, axis, raw, result_type, args, by_row, **kwargs)\u001b[0m\n\u001b[0;32m  10022\u001b[0m \u001b[38;5;28;01mfrom\u001b[39;00m \u001b[38;5;21;01mpandas\u001b[39;00m\u001b[38;5;21;01m.\u001b[39;00m\u001b[38;5;21;01mcore\u001b[39;00m\u001b[38;5;21;01m.\u001b[39;00m\u001b[38;5;21;01mapply\u001b[39;00m \u001b[38;5;28;01mimport\u001b[39;00m frame_apply\n\u001b[0;32m  10024\u001b[0m op \u001b[38;5;241m=\u001b[39m frame_apply(\n\u001b[0;32m  10025\u001b[0m     \u001b[38;5;28mself\u001b[39m,\n\u001b[0;32m  10026\u001b[0m     func\u001b[38;5;241m=\u001b[39mfunc,\n\u001b[1;32m   (...)\u001b[0m\n\u001b[0;32m  10032\u001b[0m     kwargs\u001b[38;5;241m=\u001b[39mkwargs,\n\u001b[0;32m  10033\u001b[0m )\n\u001b[1;32m> 10034\u001b[0m \u001b[38;5;28;01mreturn\u001b[39;00m op\u001b[38;5;241m.\u001b[39mapply()\u001b[38;5;241m.\u001b[39m__finalize__(\u001b[38;5;28mself\u001b[39m, method\u001b[38;5;241m=\u001b[39m\u001b[38;5;124m\"\u001b[39m\u001b[38;5;124mapply\u001b[39m\u001b[38;5;124m\"\u001b[39m)\n",
      "File \u001b[1;32m~\\anaconda3\\Lib\\site-packages\\pandas\\core\\apply.py:837\u001b[0m, in \u001b[0;36mFrameApply.apply\u001b[1;34m(self)\u001b[0m\n\u001b[0;32m    834\u001b[0m \u001b[38;5;28;01melif\u001b[39;00m \u001b[38;5;28mself\u001b[39m\u001b[38;5;241m.\u001b[39mraw:\n\u001b[0;32m    835\u001b[0m     \u001b[38;5;28;01mreturn\u001b[39;00m \u001b[38;5;28mself\u001b[39m\u001b[38;5;241m.\u001b[39mapply_raw()\n\u001b[1;32m--> 837\u001b[0m \u001b[38;5;28;01mreturn\u001b[39;00m \u001b[38;5;28mself\u001b[39m\u001b[38;5;241m.\u001b[39mapply_standard()\n",
      "File \u001b[1;32m~\\anaconda3\\Lib\\site-packages\\pandas\\core\\apply.py:965\u001b[0m, in \u001b[0;36mFrameApply.apply_standard\u001b[1;34m(self)\u001b[0m\n\u001b[0;32m    964\u001b[0m \u001b[38;5;28;01mdef\u001b[39;00m \u001b[38;5;21mapply_standard\u001b[39m(\u001b[38;5;28mself\u001b[39m):\n\u001b[1;32m--> 965\u001b[0m     results, res_index \u001b[38;5;241m=\u001b[39m \u001b[38;5;28mself\u001b[39m\u001b[38;5;241m.\u001b[39mapply_series_generator()\n\u001b[0;32m    967\u001b[0m     \u001b[38;5;66;03m# wrap results\u001b[39;00m\n\u001b[0;32m    968\u001b[0m     \u001b[38;5;28;01mreturn\u001b[39;00m \u001b[38;5;28mself\u001b[39m\u001b[38;5;241m.\u001b[39mwrap_results(results, res_index)\n",
      "File \u001b[1;32m~\\anaconda3\\Lib\\site-packages\\pandas\\core\\apply.py:981\u001b[0m, in \u001b[0;36mFrameApply.apply_series_generator\u001b[1;34m(self)\u001b[0m\n\u001b[0;32m    978\u001b[0m \u001b[38;5;28;01mwith\u001b[39;00m option_context(\u001b[38;5;124m\"\u001b[39m\u001b[38;5;124mmode.chained_assignment\u001b[39m\u001b[38;5;124m\"\u001b[39m, \u001b[38;5;28;01mNone\u001b[39;00m):\n\u001b[0;32m    979\u001b[0m     \u001b[38;5;28;01mfor\u001b[39;00m i, v \u001b[38;5;129;01min\u001b[39;00m \u001b[38;5;28menumerate\u001b[39m(series_gen):\n\u001b[0;32m    980\u001b[0m         \u001b[38;5;66;03m# ignore SettingWithCopy here in case the user mutates\u001b[39;00m\n\u001b[1;32m--> 981\u001b[0m         results[i] \u001b[38;5;241m=\u001b[39m \u001b[38;5;28mself\u001b[39m\u001b[38;5;241m.\u001b[39mfunc(v, \u001b[38;5;241m*\u001b[39m\u001b[38;5;28mself\u001b[39m\u001b[38;5;241m.\u001b[39margs, \u001b[38;5;241m*\u001b[39m\u001b[38;5;241m*\u001b[39m\u001b[38;5;28mself\u001b[39m\u001b[38;5;241m.\u001b[39mkwargs)\n\u001b[0;32m    982\u001b[0m         \u001b[38;5;28;01mif\u001b[39;00m \u001b[38;5;28misinstance\u001b[39m(results[i], ABCSeries):\n\u001b[0;32m    983\u001b[0m             \u001b[38;5;66;03m# If we have a view on v, we need to make a copy because\u001b[39;00m\n\u001b[0;32m    984\u001b[0m             \u001b[38;5;66;03m#  series_generator will swap out the underlying data\u001b[39;00m\n\u001b[0;32m    985\u001b[0m             results[i] \u001b[38;5;241m=\u001b[39m results[i]\u001b[38;5;241m.\u001b[39mcopy(deep\u001b[38;5;241m=\u001b[39m\u001b[38;5;28;01mFalse\u001b[39;00m)\n",
      "Cell \u001b[1;32mIn[31], line 1\u001b[0m, in \u001b[0;36m<lambda>\u001b[1;34m(x)\u001b[0m\n\u001b[1;32m----> 1\u001b[0m combined_data[\u001b[38;5;124m'\u001b[39m\u001b[38;5;124msalary_in_usd\u001b[39m\u001b[38;5;124m'\u001b[39m] \u001b[38;5;241m=\u001b[39m salary_data\u001b[38;5;241m.\u001b[39mapply(\u001b[38;5;28;01mlambda\u001b[39;00m x: convert_currency(x[\u001b[38;5;124m'\u001b[39m\u001b[38;5;124msalary\u001b[39m\u001b[38;5;124m'\u001b[39m], x[\u001b[38;5;124m'\u001b[39m\u001b[38;5;124msalary_currency\u001b[39m\u001b[38;5;124m'\u001b[39m]), axis\u001b[38;5;241m=\u001b[39m\u001b[38;5;241m1\u001b[39m)\n",
      "Cell \u001b[1;32mIn[29], line 10\u001b[0m, in \u001b[0;36mconvert_currency\u001b[1;34m(amount, from_currency, to_currency)\u001b[0m\n\u001b[0;32m      8\u001b[0m     \u001b[38;5;28;01mreturn\u001b[39;00m converted_amount\n\u001b[0;32m      9\u001b[0m \u001b[38;5;28;01melse\u001b[39;00m:\n\u001b[1;32m---> 10\u001b[0m     \u001b[38;5;28;01mraise\u001b[39;00m \u001b[38;5;167;01mValueError\u001b[39;00m(\u001b[38;5;124m\"\u001b[39m\u001b[38;5;124mUnable to fetch exchange rates or invalid currency codes!\u001b[39m\u001b[38;5;124m\"\u001b[39m)\n",
      "\u001b[1;31mValueError\u001b[0m: Unable to fetch exchange rates or invalid currency codes!"
     ]
    }
   ],
   "source": [
    "combined_data['salary_in_usd'] = salary_data.apply(lambda x: convert_currency(x['salary'], x['salary_currency']), axis=1)"
   ]
  },
  {
   "cell_type": "code",
   "execution_count": null,
   "id": "3ea3d84e-4f44-47f3-8206-c7773e3008b0",
   "metadata": {},
   "outputs": [],
   "source": [
    "print(salary_data.columns)"
   ]
  },
  {
   "cell_type": "code",
   "execution_count": null,
   "id": "927defce-989b-4d60-8fbd-a029a7630b34",
   "metadata": {},
   "outputs": [],
   "source": [
    "def adjusted_salary(row, index_name):\n",
    "    return row['salary_in_usd']/ row[index_name]"
   ]
  },
  {
   "cell_type": "code",
   "execution_count": null,
   "id": "ec7d1250-9c99-465e-b1d2-7cd302a8ec2c",
   "metadata": {},
   "outputs": [],
   "source": [
    "indices = ['Cost of Living Index', 'Rent Index', 'Groceries Index', 'Resturant Price Index', 'Local Purchasing Power Index']\n",
    "results ={}"
   ]
  },
  {
   "cell_type": "code",
   "execution_count": null,
   "id": "2c7aac3a-59a0-4c9a-b255-93eac6050477",
   "metadata": {},
   "outputs": [],
   "source": [
    "for index in indices:\n",
    "    combined_data[index + ' Adjusted Salary'] = combined_data.apply(lambda x: adjusted_salary(x, index), axis=1)\n",
    "    top_cities = combined_data.nlargest(5, index + ' Adjusted Salary')[['City', index, index + ' Adjusted Salary']]\n",
    "    results[index] = top_cities\n",
    "    plt.figure()\n",
    "    plt.bar(top_cities['City'], top_cities[index + ' Adjusted Salary'])\n",
    "    plt.title(f'Top 5 Cities by Adjusted Salary for {index}')\n",
    "    plt.xlabel('City')\n",
    "    plt.ylabel('Adjusted Salary')\n",
    "    plt.xticks(rotation=45)\n",
    "    plt.tight_layout()\n",
    "    plt.show()"
   ]
  },
  {
   "cell_type": "code",
   "execution_count": null,
   "id": "0620b2c1-46c3-4634-bff7-d3bdf1d4a789",
   "metadata": {},
   "outputs": [],
   "source": [
    "for index, data in results.items():\n",
    "    print(f\"Top 5 cities for {index}:\")"
   ]
  },
  {
   "cell_type": "code",
   "execution_count": null,
   "id": "03045a0b-3e0b-4e78-8fc4-4a58a778f8b2",
   "metadata": {},
   "outputs": [],
   "source": [
    "print(\"Results dictionary:\", results)\n",
    "if not results:\n",
    "    print(\"The results dictionary is empty.\")\n",
    "else:\n",
    "    for index, data in results.items():\n",
    "        print(f\"Top 5 cities for {index}:\")\n",
    "        print(data)\n",
    "        print(\"\\n\")"
   ]
  },
  {
   "cell_type": "code",
   "execution_count": null,
   "id": "db826691-b80e-428a-a8a4-c9f6a2ebdedb",
   "metadata": {},
   "outputs": [],
   "source": []
  }
 ],
 "metadata": {
  "kernelspec": {
   "display_name": "Python 3 (ipykernel)",
   "language": "python",
   "name": "python3"
  },
  "language_info": {
   "codemirror_mode": {
    "name": "ipython",
    "version": 3
   },
   "file_extension": ".py",
   "mimetype": "text/x-python",
   "name": "python",
   "nbconvert_exporter": "python",
   "pygments_lexer": "ipython3",
   "version": "3.11.7"
  }
 },
 "nbformat": 4,
 "nbformat_minor": 5
}
